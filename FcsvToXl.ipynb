{
  "nbformat": 4,
  "nbformat_minor": 0,
  "metadata": {
    "colab": {
      "provenance": [],
      "authorship_tag": "ABX9TyN7uvAPio8KhPbaMCvqHfeZ",
      "include_colab_link": true
    },
    "kernelspec": {
      "name": "python3",
      "display_name": "Python 3"
    },
    "language_info": {
      "name": "python"
    }
  },
  "cells": [
    {
      "cell_type": "markdown",
      "metadata": {
        "id": "view-in-github",
        "colab_type": "text"
      },
      "source": [
        "<a href=\"https://colab.research.google.com/github/ahmedelnahas/english-premier-league-2022/blob/main/FcsvToXl.ipynb\" target=\"_parent\"><img src=\"https://colab.research.google.com/assets/colab-badge.svg\" alt=\"Open In Colab\"/></a>"
      ]
    },
    {
      "cell_type": "code",
      "execution_count": 14,
      "metadata": {
        "id": "JBXCo-1CGLmK"
      },
      "outputs": [],
      "source": [
        "import os\n",
        "import glob\n",
        "import csv\n",
        "import pandas as pd \n",
        "from xlsxwriter.workbook import Workbook\n",
        "\n",
        "\n",
        "for csvfile in glob.glob(os.path.join('.', '*.csv')):\n",
        "    workbook = Workbook(csvfile[:-4] + '.xlsx')\n",
        "    worksheet = workbook.add_worksheet()\n",
        "    with open(\"sales.csv\", 'rt', encoding='Latin-1') as f:\n",
        "        reader = csv.reader(f)\n",
        "        for r, row in enumerate(reader):\n",
        "            for c, col in enumerate(row):\n",
        "                worksheet.write(r, c, col)\n",
        "    workbook.close()\n",
        "\n",
        "    "
      ]
    }
  ]
}